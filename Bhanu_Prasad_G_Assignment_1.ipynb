{
  "nbformat": 4,
  "nbformat_minor": 0,
  "metadata": {
    "colab": {
      "name": "Bhanu_Prasad_G_Assignment_1.ipynb",
      "provenance": []
    },
    "kernelspec": {
      "name": "python3",
      "display_name": "Python 3"
    },
    "language_info": {
      "name": "python"
    }
  },
  "cells": [
    {
      "cell_type": "markdown",
      "source": [
        "**Question1: Write a Python program to generate 12 random numbers between 1 and 100. Sort the list of numbers in ascending order and print it out. Sort the list of numbers in descending order and print it out. Calculate the average for the group and print it out**"
      ],
      "metadata": {
        "id": "mvHBvm8T_zNO"
      }
    },
    {
      "cell_type": "code",
      "source": [
        "import random\n",
        "\n",
        "def generateRandomNumbers():\n",
        "  numberList = random.sample(range(1, 100), 12)\n",
        "  return numberList\n",
        "\n",
        "def sort(numbers, type):\n",
        "  if type is \"ASC\":\n",
        "    print(sorted(numbers))\n",
        "  elif type is \"DSC\":\n",
        "    print(sorted(numbers, reverse=True))"
      ],
      "metadata": {
        "id": "nTRLSe6k_-g8"
      },
      "execution_count": 528,
      "outputs": []
    },
    {
      "cell_type": "markdown",
      "source": [
        "# **Random Number List**"
      ],
      "metadata": {
        "id": "lcSLfRZGBP8f"
      }
    },
    {
      "cell_type": "code",
      "source": [
        "numberList = generateRandomNumbers()\n",
        "print(numberList)"
      ],
      "metadata": {
        "colab": {
          "base_uri": "https://localhost:8080/"
        },
        "id": "y5uWBGCxBKpU",
        "outputId": "96961196-0a42-4b36-e0d7-d2f95a8ac0fb"
      },
      "execution_count": 529,
      "outputs": [
        {
          "output_type": "stream",
          "name": "stdout",
          "text": [
            "[80, 66, 84, 7, 91, 98, 94, 85, 45, 26, 37, 97]\n"
          ]
        }
      ]
    },
    {
      "cell_type": "markdown",
      "source": [
        "# **Sort by Asscending**"
      ],
      "metadata": {
        "id": "aOq7HmOiBTGd"
      }
    },
    {
      "cell_type": "code",
      "source": [
        "sort(numberList, \"ASC\")"
      ],
      "metadata": {
        "colab": {
          "base_uri": "https://localhost:8080/"
        },
        "id": "VlMZraslBXT2",
        "outputId": "a6dd7e24-0b45-4896-8cb7-c70838a3fae4"
      },
      "execution_count": 530,
      "outputs": [
        {
          "output_type": "stream",
          "name": "stdout",
          "text": [
            "[7, 26, 37, 45, 66, 80, 84, 85, 91, 94, 97, 98]\n"
          ]
        }
      ]
    },
    {
      "cell_type": "markdown",
      "source": [
        "# **Sort By Descending**"
      ],
      "metadata": {
        "id": "UZKCuSRnCXFR"
      }
    },
    {
      "cell_type": "code",
      "source": [
        "sort(numberList, \"DSC\")"
      ],
      "metadata": {
        "colab": {
          "base_uri": "https://localhost:8080/"
        },
        "id": "8mkr2f-ACbge",
        "outputId": "858b63f9-0c8f-4fc1-dbc4-8140023cad15"
      },
      "execution_count": 32,
      "outputs": [
        {
          "output_type": "stream",
          "name": "stdout",
          "text": [
            "[94, 91, 89, 81, 65, 55, 43, 41, 38, 37, 28, 27]\n"
          ]
        }
      ]
    },
    {
      "cell_type": "markdown",
      "source": [
        "Question 2: Write a program that will do the following string formatting tasks:\n",
        "\n",
        "(1) Ask the user to enter two sentences.\n",
        "\n",
        "(2) Make each sentence into a list. Each element in the list should correspond to a word in the sentence. For example, if the sentence is \"Alas! Am I alive? This is my first python program\", the program should print out ['Alas, '!', 'Am', 'I', 'alive, '?', 'This', 'is', 'my', 'first', 'python', 'program'].\n",
        "\n",
        "(3) Compare the two sentences. Print out a list of words that occur in both sentences.\n",
        "\n",
        "(4) Remove any punctuation from the sentence and print it back out. It should remove at least the following characters, but it can remove more: period(“.”), comma (“,”), semicolon (“;”), and colon (“:”)\n",
        "\n",
        "(5) Count the number of vowels in the sentences. Print out each vowel and the number of times it appears in the sentences, such as: a:2, e:1, i:0, etc"
      ],
      "metadata": {
        "id": "M0Tv3xXKCffZ"
      }
    },
    {
      "cell_type": "code",
      "source": [
        "import re\n",
        "\n",
        "#Q1:\n",
        "def takeInputs():\n",
        "  sentence = []\n",
        "  for _ in range(0, 2):\n",
        "    print(\"Enter your sentence one:::\")\n",
        "    sentence.append(input())\n",
        "  return sentence\n",
        "\n",
        "#Q2:\n",
        "def separateIntoList(sent_list):\n",
        "  updatedList = []\n",
        "  for sentence in sent_list:\n",
        "    sent = re.findall(r\"[\\w']+|[.,!?;#@]\", sentence)\n",
        "    updatedList.append(sent)\n",
        "  return updatedList\n",
        "\n",
        "#Q3:\n",
        "def getCommonWords(updatedList):\n",
        "  commonWords = set(updatedList[0]) & set(updatedList[1])\n",
        "  return commonWords\n",
        "\n",
        "#Q4:\n",
        "\n",
        "def removePunctuations(sentence):\n",
        "  print(re.sub(r'[^\\w\\s]', '', sentence))\n",
        "\n",
        "#Q5\n",
        "def countVowels(sentence):\n",
        "  sentence_lowercase = sentence.lower()\n",
        "  vowels = {}\n",
        "  for v in \"aeiou\":                        \n",
        "    cnt_of_vowels_in_sent = sentence_lowercase.count(v)\n",
        "    vowels[v] = cnt_of_vowels_in_sent\n",
        "  print(vowels)\n"
      ],
      "metadata": {
        "id": "spzjSEVLCko4"
      },
      "execution_count": 531,
      "outputs": []
    },
    {
      "cell_type": "code",
      "source": [
        "sent_list = takeInputs()\n",
        "print(sent_list[0])\n",
        "print(sent_list[1])"
      ],
      "metadata": {
        "colab": {
          "base_uri": "https://localhost:8080/"
        },
        "id": "0Knxk9S1ESdx",
        "outputId": "1ec799e5-affa-45b9-a1d5-86a18a0247e6"
      },
      "execution_count": 532,
      "outputs": [
        {
          "output_type": "stream",
          "name": "stdout",
          "text": [
            "Enter your sentence one:::\n",
            "Alas! Am I alive? This is my first python program\n",
            "Enter your sentence one:::\n",
            "Computation methods is my fav course\n",
            "Alas! Am I alive? This is my first python program\n",
            "Computation methods is my fav course\n"
          ]
        }
      ]
    },
    {
      "cell_type": "code",
      "source": [
        "updatedList = separateIntoList(sent_list)\n",
        "print(updatedList[0])\n",
        "print(updatedList[1])"
      ],
      "metadata": {
        "colab": {
          "base_uri": "https://localhost:8080/"
        },
        "id": "7XZvxMfaG_42",
        "outputId": "498cfaf1-332c-4b3a-b0f5-ac224735efdf"
      },
      "execution_count": 533,
      "outputs": [
        {
          "output_type": "stream",
          "name": "stdout",
          "text": [
            "['Alas', '!', 'Am', 'I', 'alive', '?', 'This', 'is', 'my', 'first', 'python', 'program']\n",
            "['Computation', 'methods', 'is', 'my', 'fav', 'course']\n"
          ]
        }
      ]
    },
    {
      "cell_type": "code",
      "source": [
        "commonWords = getCommonWords(updatedList)\n",
        "print(commonWords)"
      ],
      "metadata": {
        "colab": {
          "base_uri": "https://localhost:8080/"
        },
        "id": "QRkzdPChH-OU",
        "outputId": "c04b0960-baa4-41ea-e563-892d7c44be5f"
      },
      "execution_count": 534,
      "outputs": [
        {
          "output_type": "stream",
          "name": "stdout",
          "text": [
            "{'is', 'my'}\n"
          ]
        }
      ]
    },
    {
      "cell_type": "code",
      "source": [
        "removePunctuations('Bhanuprasad8648@gmail.com')"
      ],
      "metadata": {
        "colab": {
          "base_uri": "https://localhost:8080/"
        },
        "id": "bcSjKITmKXEx",
        "outputId": "0eb7dcc9-5d9c-44c7-ed2e-b9a8dc4d4f24"
      },
      "execution_count": 535,
      "outputs": [
        {
          "output_type": "stream",
          "name": "stdout",
          "text": [
            "Bhanuprasad8648gmailcom\n"
          ]
        }
      ]
    },
    {
      "cell_type": "code",
      "source": [
        "countVowels(sent_list[0])"
      ],
      "metadata": {
        "colab": {
          "base_uri": "https://localhost:8080/"
        },
        "id": "EaGSQKPZJxJ5",
        "outputId": "dae4bafd-bfc3-40b1-8f39-fb342f90fc72"
      },
      "execution_count": 536,
      "outputs": [
        {
          "output_type": "stream",
          "name": "stdout",
          "text": [
            "{'a': 5, 'e': 1, 'i': 5, 'o': 2, 'u': 0}\n"
          ]
        }
      ]
    },
    {
      "cell_type": "markdown",
      "source": [
        "# **The formula that describes the volume V of a sphere with radius r is the following:**\n",
        "\n",
        "# **𝑉=4/3∗ 𝜋∗ 𝑟3 **\n",
        "# **Write a program to calculate the value of V when r is in the range of 1–10. Output the result in the following format:**"
      ],
      "metadata": {
        "id": "4_CZ-7UYLOAs"
      }
    },
    {
      "cell_type": "code",
      "source": [
        "def volume_of_sphere(radius):\n",
        "  return (4/3)*(3.1415)*(radius**3)\n",
        "\n",
        "def calculaternage(lowerlimit, upperLimit):\n",
        "  print(\"r\\t\\tV\")\n",
        "  for radius in range(lowerlimit, upperLimit + 1):\n",
        "    print(\"%d\\t\\t%.3f\"%(radius,volume_of_sphere(radius)))"
      ],
      "metadata": {
        "id": "d5unmzFZLX6l"
      },
      "execution_count": 537,
      "outputs": []
    },
    {
      "cell_type": "code",
      "source": [
        "calculaternage(1, 10)"
      ],
      "metadata": {
        "colab": {
          "base_uri": "https://localhost:8080/"
        },
        "id": "Kx7bf7ItL1dc",
        "outputId": "9ecf5065-8334-456b-852e-c19ac9f7f3a4"
      },
      "execution_count": 538,
      "outputs": [
        {
          "output_type": "stream",
          "name": "stdout",
          "text": [
            "r\t\tV\n",
            "1\t\t4.189\n",
            "2\t\t33.509\n",
            "3\t\t113.094\n",
            "4\t\t268.075\n",
            "5\t\t523.583\n",
            "6\t\t904.752\n",
            "7\t\t1436.713\n",
            "8\t\t2144.597\n",
            "9\t\t3053.538\n",
            "10\t\t4188.667\n"
          ]
        }
      ]
    },
    {
      "cell_type": "markdown",
      "source": [
        "(40 points). In the field of Data Science, data is often formatted as a comma-delimited (CSV) file, where each line in a file corresponds to a field's value. Refer to Chapter 9 (p. 106) for more information on comma-delimited files. To answer this question, you will need to download the file Assignment1_denton_housing.csv included with this assignment. The file Assignment1_denton_housing.csv contains statistics about housing in the city of Denton from 2008 to 2014. Write a program to implement the following questions.\n",
        "\n",
        "(1) (10 pts) Calculate the difference in the number of Occupied Housing Units from year to year and print it. The difference must be calculated for the consecutive years such as 2008-2009, 2009-2010 etc. Finally, print the values in the ascending order.\n",
        "\n",
        "(2) (10 pts) For all the years, calculate the percentage of housing units which are vacant an occupied. Print the results in the following format:\n",
        "\n",
        "Year Vacant Housing Units Occupied Housing Units\n",
        "\n",
        "\n",
        "(3) (10 pts) Calculate and print the valued and years in which the highest number of housing units were vacant and occupied. Print the results in the following format:  \n",
        "\n",
        "                              Year\tValue\n",
        "\tVacant Housing Units\t  -----   -----\n",
        "\tOccupied Housing Units\t-----   -----\n",
        "\n",
        "\n",
        "\n",
        "(4) (10 pts) Calculate the harmonic mean of the total housing units and print it out. You can find the information about harmonic mean here: https://ncalculators.com/statistics/harmonic-mean-calculator.htm"
      ],
      "metadata": {
        "id": "6sFT_lIJMQFF"
      }
    },
    {
      "cell_type": "code",
      "source": [
        "import pandas as pd\n",
        "import statistics\n",
        "pd.options.mode.chained_assignment = None \n",
        "\n",
        "#Q1:\n",
        "\n",
        "def readCSV(filepath):\n",
        "  df = pd.read_csv(filepath)\n",
        "  return df\n",
        "\n",
        "def differenceOfccupiedHousing(df):\n",
        "  df['year'] = pd.to_datetime(df['year'],format='%Y')\n",
        "  df['year'] = df['year'].dt.year\n",
        "  df1 = df[df['title_field'] == 'Occupied Housing Units'] \n",
        "  df1.sort_values(by=['year'], ascending=True, inplace=True)\n",
        "  df1['Difference'] = df1['value'].diff()\n",
        "  diffList = getDiifeYear(df1['year'].values.tolist())\n",
        "  df1.dropna(inplace=True)\n",
        "  df1['Year Difference'] = diffList\n",
        "  df2 = df1.iloc[:, -2:] \n",
        "  df2 = df2[['Year Difference', 'Difference']]\n",
        "  df2.reset_index(drop=True, inplace=True)\n",
        "  print(df2)\n",
        "\n",
        "def getDiifeYear(yearList):\n",
        "  combinedList = []\n",
        "  yearList1 = yearList[1:]\n",
        "  for year1, year2 in zip(yearList, yearList1):\n",
        "    combinedList.append(str(year1) + '-' + str(year2))\n",
        "  return combinedList\n",
        "\n",
        "\n",
        "#Q2:\n",
        "\n",
        "def calculatevacantandOccupied(df):\n",
        "  yearvalues = sorted(list(set(df['year'].values.tolist())), reverse = True)\n",
        "  totalHosuingValues = df[df['title_field'] == 'Total Housing Units']['value'].tolist()\n",
        "  vacantHousingValues = df[df['title_field'] == 'Vacant Housing Units']['value'].tolist()\n",
        "  occupiedHousingValues = df[df['title_field'] == 'Occupied Housing Units']['value'].tolist()\n",
        "  vacantPercentageList = [str((vacant / total) * 100) + \"%\" for vacant, total in zip(vacantHousingValues, totalHosuingValues)]\n",
        "  occupiedpercentageList = [str((occupied / total) * 100) + \"%\"  for occupied, total in zip(occupiedHousingValues, totalHosuingValues)]\n",
        "  df = pd.DataFrame({'Year': yearvalues,\n",
        "                     'Vacant Housing Units': vacantPercentageList,\n",
        "                     'Occupied Housing Units': occupiedpercentageList})\n",
        "  print(df)\n",
        "\n",
        "\n",
        "# Q3:\n",
        "\n",
        "def highestNumberOfVacantandOccupied(df):\n",
        "  vacantTuple = getYearandMaxValue(df,'Vacant Housing Units')\n",
        "  occupiedTuple = getYearandMaxValue(df,'Occupied Housing Units')\n",
        "  df = pd.DataFrame({'Title': ['Vacant Housing Units', 'Occupied Housing Units'],\n",
        "                     'Year' : [vacantTuple[0], occupiedTuple[0]],\n",
        "                      'Value': [vacantTuple[1], occupiedTuple[1]]\n",
        "                     })\n",
        "  df.set_index('Title')\n",
        "  print(df)\n",
        "\n",
        "def getYearandMaxValue(df, columnsName):\n",
        "  df1 = df[df['title_field'] == columnsName]\n",
        "  max = df1['value'].max()\n",
        "  year = df1[df1['value'] == max]['year'].values[0]\n",
        "  return year, max\n",
        "\n",
        "\n",
        "#Q4:\n",
        "\n",
        "def calculateHarmonicMean(df):\n",
        "  totalHousingValues = df[df['title_field'] == 'Total Housing Units']['value'].tolist()\n",
        "  harmonicMean = statistics.harmonic_mean(totalHousingValues)\n",
        "  print(f\"The harmonic mean of the total housing units is {harmonicMean}\")\n",
        "  \n",
        "\n"
      ],
      "metadata": {
        "id": "sV3SrEdEMT4t"
      },
      "execution_count": 539,
      "outputs": []
    },
    {
      "cell_type": "code",
      "source": [
        "df = readCSV('/content/sample_data/Assignment1_denton_housing.csv')\n",
        "df.head()"
      ],
      "metadata": {
        "colab": {
          "base_uri": "https://localhost:8080/",
          "height": 206
        },
        "id": "xU2Q7UZjNqgH",
        "outputId": "f93fa5a5-cf23-45c8-88ca-aa80f20f96f3"
      },
      "execution_count": 540,
      "outputs": [
        {
          "output_type": "execute_result",
          "data": {
            "text/html": [
              "\n",
              "  <div id=\"df-40c5e81c-c984-40a4-9e78-095b3a11923e\">\n",
              "    <div class=\"colab-df-container\">\n",
              "      <div>\n",
              "<style scoped>\n",
              "    .dataframe tbody tr th:only-of-type {\n",
              "        vertical-align: middle;\n",
              "    }\n",
              "\n",
              "    .dataframe tbody tr th {\n",
              "        vertical-align: top;\n",
              "    }\n",
              "\n",
              "    .dataframe thead th {\n",
              "        text-align: right;\n",
              "    }\n",
              "</style>\n",
              "<table border=\"1\" class=\"dataframe\">\n",
              "  <thead>\n",
              "    <tr style=\"text-align: right;\">\n",
              "      <th></th>\n",
              "      <th>year</th>\n",
              "      <th>title_field</th>\n",
              "      <th>value</th>\n",
              "    </tr>\n",
              "  </thead>\n",
              "  <tbody>\n",
              "    <tr>\n",
              "      <th>0</th>\n",
              "      <td>2014</td>\n",
              "      <td>Total Housing Units</td>\n",
              "      <td>49109</td>\n",
              "    </tr>\n",
              "    <tr>\n",
              "      <th>1</th>\n",
              "      <td>2014</td>\n",
              "      <td>Vacant Housing Units</td>\n",
              "      <td>2814</td>\n",
              "    </tr>\n",
              "    <tr>\n",
              "      <th>2</th>\n",
              "      <td>2014</td>\n",
              "      <td>Occupied Housing Units</td>\n",
              "      <td>46295</td>\n",
              "    </tr>\n",
              "    <tr>\n",
              "      <th>3</th>\n",
              "      <td>2013</td>\n",
              "      <td>Total Housing Units</td>\n",
              "      <td>47888</td>\n",
              "    </tr>\n",
              "    <tr>\n",
              "      <th>4</th>\n",
              "      <td>2013</td>\n",
              "      <td>Vacant Housing Units</td>\n",
              "      <td>4215</td>\n",
              "    </tr>\n",
              "  </tbody>\n",
              "</table>\n",
              "</div>\n",
              "      <button class=\"colab-df-convert\" onclick=\"convertToInteractive('df-40c5e81c-c984-40a4-9e78-095b3a11923e')\"\n",
              "              title=\"Convert this dataframe to an interactive table.\"\n",
              "              style=\"display:none;\">\n",
              "        \n",
              "  <svg xmlns=\"http://www.w3.org/2000/svg\" height=\"24px\"viewBox=\"0 0 24 24\"\n",
              "       width=\"24px\">\n",
              "    <path d=\"M0 0h24v24H0V0z\" fill=\"none\"/>\n",
              "    <path d=\"M18.56 5.44l.94 2.06.94-2.06 2.06-.94-2.06-.94-.94-2.06-.94 2.06-2.06.94zm-11 1L8.5 8.5l.94-2.06 2.06-.94-2.06-.94L8.5 2.5l-.94 2.06-2.06.94zm10 10l.94 2.06.94-2.06 2.06-.94-2.06-.94-.94-2.06-.94 2.06-2.06.94z\"/><path d=\"M17.41 7.96l-1.37-1.37c-.4-.4-.92-.59-1.43-.59-.52 0-1.04.2-1.43.59L10.3 9.45l-7.72 7.72c-.78.78-.78 2.05 0 2.83L4 21.41c.39.39.9.59 1.41.59.51 0 1.02-.2 1.41-.59l7.78-7.78 2.81-2.81c.8-.78.8-2.07 0-2.86zM5.41 20L4 18.59l7.72-7.72 1.47 1.35L5.41 20z\"/>\n",
              "  </svg>\n",
              "      </button>\n",
              "      \n",
              "  <style>\n",
              "    .colab-df-container {\n",
              "      display:flex;\n",
              "      flex-wrap:wrap;\n",
              "      gap: 12px;\n",
              "    }\n",
              "\n",
              "    .colab-df-convert {\n",
              "      background-color: #E8F0FE;\n",
              "      border: none;\n",
              "      border-radius: 50%;\n",
              "      cursor: pointer;\n",
              "      display: none;\n",
              "      fill: #1967D2;\n",
              "      height: 32px;\n",
              "      padding: 0 0 0 0;\n",
              "      width: 32px;\n",
              "    }\n",
              "\n",
              "    .colab-df-convert:hover {\n",
              "      background-color: #E2EBFA;\n",
              "      box-shadow: 0px 1px 2px rgba(60, 64, 67, 0.3), 0px 1px 3px 1px rgba(60, 64, 67, 0.15);\n",
              "      fill: #174EA6;\n",
              "    }\n",
              "\n",
              "    [theme=dark] .colab-df-convert {\n",
              "      background-color: #3B4455;\n",
              "      fill: #D2E3FC;\n",
              "    }\n",
              "\n",
              "    [theme=dark] .colab-df-convert:hover {\n",
              "      background-color: #434B5C;\n",
              "      box-shadow: 0px 1px 3px 1px rgba(0, 0, 0, 0.15);\n",
              "      filter: drop-shadow(0px 1px 2px rgba(0, 0, 0, 0.3));\n",
              "      fill: #FFFFFF;\n",
              "    }\n",
              "  </style>\n",
              "\n",
              "      <script>\n",
              "        const buttonEl =\n",
              "          document.querySelector('#df-40c5e81c-c984-40a4-9e78-095b3a11923e button.colab-df-convert');\n",
              "        buttonEl.style.display =\n",
              "          google.colab.kernel.accessAllowed ? 'block' : 'none';\n",
              "\n",
              "        async function convertToInteractive(key) {\n",
              "          const element = document.querySelector('#df-40c5e81c-c984-40a4-9e78-095b3a11923e');\n",
              "          const dataTable =\n",
              "            await google.colab.kernel.invokeFunction('convertToInteractive',\n",
              "                                                     [key], {});\n",
              "          if (!dataTable) return;\n",
              "\n",
              "          const docLinkHtml = 'Like what you see? Visit the ' +\n",
              "            '<a target=\"_blank\" href=https://colab.research.google.com/notebooks/data_table.ipynb>data table notebook</a>'\n",
              "            + ' to learn more about interactive tables.';\n",
              "          element.innerHTML = '';\n",
              "          dataTable['output_type'] = 'display_data';\n",
              "          await google.colab.output.renderOutput(dataTable, element);\n",
              "          const docLink = document.createElement('div');\n",
              "          docLink.innerHTML = docLinkHtml;\n",
              "          element.appendChild(docLink);\n",
              "        }\n",
              "      </script>\n",
              "    </div>\n",
              "  </div>\n",
              "  "
            ],
            "text/plain": [
              "   year             title_field  value\n",
              "0  2014     Total Housing Units  49109\n",
              "1  2014    Vacant Housing Units   2814\n",
              "2  2014  Occupied Housing Units  46295\n",
              "3  2013     Total Housing Units  47888\n",
              "4  2013    Vacant Housing Units   4215"
            ]
          },
          "metadata": {},
          "execution_count": 540
        }
      ]
    },
    {
      "cell_type": "code",
      "source": [
        "#Q1\n",
        "differenceOfccupiedHousing(df)"
      ],
      "metadata": {
        "colab": {
          "base_uri": "https://localhost:8080/"
        },
        "id": "wSxt7dRuhbau",
        "outputId": "3589b119-4f33-459f-ff74-929c3e12fc5d"
      },
      "execution_count": 541,
      "outputs": [
        {
          "output_type": "stream",
          "name": "stdout",
          "text": [
            "  Year Difference  Difference\n",
            "0       2008-2009      -795.0\n",
            "1       2009-2010      5091.0\n",
            "2       2010-2011      -303.0\n",
            "3       2011-2012      1404.0\n",
            "4       2012-2013      1565.0\n",
            "5       2013-2014      2622.0\n"
          ]
        }
      ]
    },
    {
      "cell_type": "code",
      "source": [
        "#Q2:\n",
        "calculatevacantandOccupied(df)"
      ],
      "metadata": {
        "colab": {
          "base_uri": "https://localhost:8080/"
        },
        "id": "_MsZP6-ohzKy",
        "outputId": "72479762-6f2f-4489-b6db-162b0edade86"
      },
      "execution_count": 543,
      "outputs": [
        {
          "output_type": "stream",
          "name": "stdout",
          "text": [
            "   Year Vacant Housing Units Occupied Housing Units\n",
            "0  2014   5.730110570363885%     94.26988942963611%\n",
            "1  2013   8.801787504176412%     91.19821249582358%\n",
            "2  2012   6.677600230491346%     93.32239976950866%\n",
            "3  2011   9.379522229890688%      90.6204777701093%\n",
            "4  2010   8.142556337081672%     91.85744366291833%\n",
            "5  2009    9.07111572444872%     90.92888427555128%\n",
            "6  2008   10.88265281351653%     89.11734718648347%\n"
          ]
        }
      ]
    },
    {
      "cell_type": "code",
      "source": [
        "highestNumberOfVacantandOccupied(df)"
      ],
      "metadata": {
        "colab": {
          "base_uri": "https://localhost:8080/"
        },
        "id": "5097XOiZoP9N",
        "outputId": "c624bb59-f1de-429e-9bc4-9e1f3adad1b0"
      },
      "execution_count": 544,
      "outputs": [
        {
          "output_type": "stream",
          "name": "stdout",
          "text": [
            "                    Title  Year  Value\n",
            "0    Vacant Housing Units  2008   4483\n",
            "1  Occupied Housing Units  2014  46295\n"
          ]
        }
      ]
    },
    {
      "cell_type": "code",
      "source": [
        "calculateHarmonicMean(df)"
      ],
      "metadata": {
        "colab": {
          "base_uri": "https://localhost:8080/"
        },
        "id": "Q6u_uGcgtpyD",
        "outputId": "86aeb79b-f399-40c1-c7f6-d3ec3b980b57"
      },
      "execution_count": 545,
      "outputs": [
        {
          "output_type": "stream",
          "name": "stdout",
          "text": [
            "The harmonic mean of the total housing units is 44398.28543969185\n"
          ]
        }
      ]
    }
  ]
}