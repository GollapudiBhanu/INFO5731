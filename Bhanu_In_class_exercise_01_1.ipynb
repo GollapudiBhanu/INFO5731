{
  "cells": [
    {
      "cell_type": "markdown",
      "metadata": {
        "id": "view-in-github"
      },
      "source": [
        "<a href=\"https://colab.research.google.com/github/unt-iialab/INFO5731_Spring2020/blob/master/In_class_exercise/In_class_exercise_01.ipynb\" target=\"_parent\"><img src=\"https://colab.research.google.com/assets/colab-badge.svg\" alt=\"Open In Colab\"/></a>"
      ]
    },
    {
      "cell_type": "markdown",
      "metadata": {
        "id": "DymRJbxDBCnf"
      },
      "source": [
        "# **The first In-class-exercise (01/25/2022, 40 points in total)**"
      ]
    },
    {
      "cell_type": "markdown",
      "metadata": {
        "id": "03jb4GZsBkBS"
      },
      "source": [
        "(1) Write a Python program to calculate the length of a string. (4 points)"
      ]
    },
    {
      "cell_type": "code",
      "execution_count": 3,
      "metadata": {
        "id": "YaGLbSHHB8Ej"
      },
      "outputs": [],
      "source": [
        "# write your answer here\n",
        "\n",
        "# using len() function we can find the lengh of a string\n",
        "\n",
        "def lengthofString(samplestring):\n",
        "  stringLength = len(samplestring)\n",
        "  return stringLength"
      ]
    },
    {
      "cell_type": "code",
      "source": [
        "lengthofString(\"Exercise\")"
      ],
      "metadata": {
        "colab": {
          "base_uri": "https://localhost:8080/"
        },
        "id": "MWPto9_65xIa",
        "outputId": "1beefe73-08ed-4ccf-b15b-25277cfc8b87"
      },
      "execution_count": 4,
      "outputs": [
        {
          "output_type": "execute_result",
          "data": {
            "text/plain": [
              "8"
            ]
          },
          "metadata": {},
          "execution_count": 4
        }
      ]
    },
    {
      "cell_type": "markdown",
      "metadata": {
        "id": "jJDe71iLB616"
      },
      "source": [
        "(2) Write a Python program to count the number of characters in a string. (4 points)\n",
        "\n",
        "Sample String : 'google.com‘, \n",
        "\n",
        "Expected Result : {'o': 3, 'g': 2, '.': 1, 'e': 1, 'l': 1, 'm': 1, 'c': 1}"
      ]
    },
    {
      "cell_type": "code",
      "execution_count": 13,
      "metadata": {
        "id": "MtKskTzbCLaU"
      },
      "outputs": [],
      "source": [
        "# write your answer here\n",
        "import collections\n",
        "\n",
        "def countNumberOfCharctersinAString(sampleString):\n",
        "  count = collections.Counter(sampleString)\n",
        "  repeated = {}\n",
        "  for key, value in count.items():\n",
        "    repeated[key] = value\n",
        "  return repeated"
      ]
    },
    {
      "cell_type": "code",
      "source": [
        "counterDict = countNumberOfCharctersinAString(\"google.com\")\n",
        "print(counterDict)"
      ],
      "metadata": {
        "colab": {
          "base_uri": "https://localhost:8080/"
        },
        "id": "0XilAnEg7SFz",
        "outputId": "0c6866ff-1dd6-426f-ebfd-20c8a0dd98d0"
      },
      "execution_count": 14,
      "outputs": [
        {
          "output_type": "stream",
          "name": "stdout",
          "text": [
            "{'g': 2, 'o': 3, 'l': 1, 'e': 1, '.': 1, 'c': 1, 'm': 1}\n"
          ]
        }
      ]
    },
    {
      "cell_type": "markdown",
      "metadata": {
        "id": "55W9AMdXCSpV"
      },
      "source": [
        "(3) Write a Python program to sum all the items in a list. (4 points)"
      ]
    },
    {
      "cell_type": "code",
      "execution_count": 16,
      "metadata": {
        "id": "I57NXsauCec2"
      },
      "outputs": [],
      "source": [
        "# write your answer here\n",
        "\n",
        "def sumListOfItems(sampleList):\n",
        "  return sum(sampleList)"
      ]
    },
    {
      "cell_type": "code",
      "source": [
        "sumListOfItems([1,2,3,4, 10])"
      ],
      "metadata": {
        "colab": {
          "base_uri": "https://localhost:8080/"
        },
        "id": "aeOeqfPr8Enc",
        "outputId": "e7978a55-207d-4af7-c07a-eae7df47c6f8"
      },
      "execution_count": 18,
      "outputs": [
        {
          "output_type": "execute_result",
          "data": {
            "text/plain": [
              "20"
            ]
          },
          "metadata": {},
          "execution_count": 18
        }
      ]
    },
    {
      "cell_type": "markdown",
      "metadata": {
        "id": "4ulBZ6yhCi9F"
      },
      "source": [
        "(4) Write a Python program to get a string from a given string where all occurrences of its first char have been changed to '\\$', except the first char itself. (4 points)\n",
        "\n",
        "Sample String : 'restart‘, \n",
        "\n",
        "Expected Result : 'resta\\$t'"
      ]
    },
    {
      "cell_type": "code",
      "execution_count": 24,
      "metadata": {
        "id": "Fj0XhwbBCw2o"
      },
      "outputs": [],
      "source": [
        "# write your answer here\n",
        "def replaceCharater(samplestring):\n",
        "  char = samplestring[0]\n",
        "  samplestring = samplestring.replace(char, '$')\n",
        "  samplestring = char + samplestring[1:]\n",
        "  return samplestring"
      ]
    },
    {
      "cell_type": "code",
      "source": [
        "replaceCharater('restart')"
      ],
      "metadata": {
        "colab": {
          "base_uri": "https://localhost:8080/",
          "height": 35
        },
        "id": "5p121dcM9TWo",
        "outputId": "2b95874d-c105-449b-d1b4-5ce1a25f7c16"
      },
      "execution_count": 25,
      "outputs": [
        {
          "output_type": "execute_result",
          "data": {
            "application/vnd.google.colaboratory.intrinsic+json": {
              "type": "string"
            },
            "text/plain": [
              "'resta$t'"
            ]
          },
          "metadata": {},
          "execution_count": 25
        }
      ]
    },
    {
      "cell_type": "markdown",
      "metadata": {
        "id": "_bIP7s1MCzue"
      },
      "source": [
        "(5) Write a program with python which could accept two parameter a and b to calculate and output the result of S, where \n",
        "\n",
        "$\\ S=3.14*(1+a/b)^3$ (4 points)\n",
        "\n"
      ]
    },
    {
      "cell_type": "code",
      "execution_count": 30,
      "metadata": {
        "id": "w79QilHXD3Mg"
      },
      "outputs": [],
      "source": [
        "# write your answer here\n",
        "def calculateS(a, b):\n",
        "  result = 1 + (a / b)\n",
        "  s = 3.14 * (result ** 3)\n",
        "  return s"
      ]
    },
    {
      "cell_type": "code",
      "source": [
        "calculateS(2,5)"
      ],
      "metadata": {
        "colab": {
          "base_uri": "https://localhost:8080/"
        },
        "id": "tJkOukYc-Nmh",
        "outputId": "6881b5cd-9a04-4187-d2b0-0668d1575e6c"
      },
      "execution_count": 32,
      "outputs": [
        {
          "output_type": "execute_result",
          "data": {
            "text/plain": [
              "8.616159999999999"
            ]
          },
          "metadata": {},
          "execution_count": 32
        }
      ]
    },
    {
      "cell_type": "markdown",
      "metadata": {
        "id": "xCa2bK9aD4Q3"
      },
      "source": [
        "(6) Write a Python program to concatenate following dictionaries to create a new one. (4 points)\n",
        "\n",
        "Sample Dictionary : dic1={1:10, 2:20}, dic2={3:30, 4:40}, dic3={5:50,6:60}, \n",
        "\n",
        "Expected Result : {1: 10, 2: 20, 3: 30, 4: 40, 5: 50, 6: 60}\n"
      ]
    },
    {
      "cell_type": "code",
      "execution_count": 35,
      "metadata": {
        "id": "_z4aLqAbEET1"
      },
      "outputs": [],
      "source": [
        "# write your answer here\n",
        "def concatDict(listOfDict):\n",
        "  result = {}\n",
        "  for dic in listOfDict:\n",
        "    result.update(dic)\n",
        "  return result"
      ]
    },
    {
      "cell_type": "code",
      "source": [
        "concatDict([{1:10, 2:20}, {3:30, 4:40}, {5:50,6:60}])"
      ],
      "metadata": {
        "colab": {
          "base_uri": "https://localhost:8080/"
        },
        "id": "EmXTQlUu_LHZ",
        "outputId": "85cf265f-1760-46f6-db2d-6454b6d46117"
      },
      "execution_count": 37,
      "outputs": [
        {
          "output_type": "execute_result",
          "data": {
            "text/plain": [
              "{1: 10, 2: 20, 3: 30, 4: 40, 5: 50, 6: 60}"
            ]
          },
          "metadata": {},
          "execution_count": 37
        }
      ]
    },
    {
      "cell_type": "markdown",
      "metadata": {
        "id": "0v48Vqa7FrQh"
      },
      "source": [
        "(7) Write a Python program to check whether an element exists within a tuple. (4 points)"
      ]
    },
    {
      "cell_type": "code",
      "execution_count": 38,
      "metadata": {
        "id": "7WEmgq-DF2P1"
      },
      "outputs": [],
      "source": [
        "# write your answer here\n",
        "\n",
        "def elementExistsInATuple(sampleTuple, element):\n",
        "  return element in sampleTuple"
      ]
    },
    {
      "cell_type": "code",
      "source": [
        "elementExistsInATuple((2,4,'r','t','y'), 5)"
      ],
      "metadata": {
        "colab": {
          "base_uri": "https://localhost:8080/"
        },
        "id": "NxWYwxzg__KL",
        "outputId": "e436085c-90f1-4c2d-e32b-ee2a8552e68a"
      },
      "execution_count": 39,
      "outputs": [
        {
          "output_type": "execute_result",
          "data": {
            "text/plain": [
              "False"
            ]
          },
          "metadata": {},
          "execution_count": 39
        }
      ]
    },
    {
      "cell_type": "code",
      "source": [
        "elementExistsInATuple((2,4,'r','t','y'), 'y')"
      ],
      "metadata": {
        "colab": {
          "base_uri": "https://localhost:8080/"
        },
        "id": "h2TU902EAG85",
        "outputId": "fb68a1c7-2602-4b89-b7aa-4ed33c2abd68"
      },
      "execution_count": 40,
      "outputs": [
        {
          "output_type": "execute_result",
          "data": {
            "text/plain": [
              "True"
            ]
          },
          "metadata": {},
          "execution_count": 40
        }
      ]
    },
    {
      "cell_type": "markdown",
      "metadata": {
        "id": "vD5PYLMuGga_"
      },
      "source": [
        "(8) Write a Python program to find maximum and the minimum value in a set. (4 points)"
      ]
    },
    {
      "cell_type": "code",
      "execution_count": 49,
      "metadata": {
        "id": "t0D5kdJUGjjw"
      },
      "outputs": [],
      "source": [
        "# write your answer here\n",
        "\n",
        "def findMaxandMin(sampleSet):\n",
        "  maxi = max(sampleSet)\n",
        "  mini = min(sampleSet)\n",
        "  return {\"MaximumValue\": maxi, \n",
        "          \"MinimumValue\": mini}"
      ]
    },
    {
      "cell_type": "code",
      "source": [
        "findMaxandMin({2,4,5,6,7,9,-1,100})"
      ],
      "metadata": {
        "colab": {
          "base_uri": "https://localhost:8080/"
        },
        "id": "9Xwekih5Abu4",
        "outputId": "893aa941-28a8-418b-ad62-02be7e3955c9"
      },
      "execution_count": 51,
      "outputs": [
        {
          "output_type": "execute_result",
          "data": {
            "text/plain": [
              "{'MaximumValue': 100, 'MinimumValue': -1}"
            ]
          },
          "metadata": {},
          "execution_count": 51
        }
      ]
    },
    {
      "cell_type": "markdown",
      "metadata": {
        "id": "uHkd-y5VhVWC"
      },
      "source": [
        "(9) Write a Python program to randomly divide the students in this class into six groups for term projects, each group should have at least 4 students but no more than 6 students (including 6). Here is the students list: (4 points)\n",
        "\n",
        "studnet_list = ['ja0964','sa1198','sb1357','vb0218','sc1229','kg0569','kg0470','sg1297','bg0320','fh0141','jl1252','sk1386',\n",
        "           'ak0956','sk1390','sk1458','sk1313','ak0934','vm0377','nm0618','sm1640','sm1907','gn0108','pr0353','dr0609','ms1500','aos0040','ds0814', 'av0659','nv0234','hy0232']"
      ]
    },
    {
      "cell_type": "code",
      "execution_count": 319,
      "metadata": {
        "id": "3iGbmcOBhTwy"
      },
      "outputs": [],
      "source": [
        "# write your answer here\n",
        "import random\n",
        "from itertools import islice\n",
        "\n",
        "def createGroups():\n",
        "  studnet_list = ['ja0964','sa1198','sb1357','vb0218','sc1229','kg0569','kg0470','sg1297','bg0320','fh0141','jl1252','sk1386', \n",
        "                'ak0956','sk1390','sk1458','sk1313','ak0934','vm0377','nm0618','sm1640','sm1907','gn0108','pr0353','dr0609',\n",
        "                'ms1500','aos0040','ds0814', 'av0659','nv0234','hy0232']\n",
        "  \n",
        "  randomNumbers = generateRandomNumbers()\n",
        "  random.shuffle(studnet_list)\n",
        "  Inputt = iter(studnet_list)\n",
        "  Output = [list(islice(Inputt, elem))\n",
        "          for elem in randomNumbers]\n",
        "\n",
        "  print(Output)\n",
        "\n",
        "def generateRandomNumbers():\n",
        "  min_num = 4\n",
        "  max_num = 6\n",
        "  randomNumbers = [min_num] * 6\n",
        "  for i in range(0, 6):\n",
        "    a = random.randint(0,  5)\n",
        "    if randomNumbers[a] >= max_num:\n",
        "       continue\n",
        "    randomNumbers[a] = randomNumbers[a] + 1\n",
        "  return randomNumbers"
      ]
    },
    {
      "cell_type": "code",
      "source": [
        "createGroups()"
      ],
      "metadata": {
        "colab": {
          "base_uri": "https://localhost:8080/"
        },
        "id": "bzP43Y-S0HgM",
        "outputId": "828ae03c-554e-4abd-d7fd-0ef4648b4568"
      },
      "execution_count": 320,
      "outputs": [
        {
          "output_type": "stream",
          "name": "stdout",
          "text": [
            "[['jl1252', 'sk1390', 'pr0353', 'sk1458'], ['fh0141', 'aos0040', 'sm1907', 'ak0956', 'sk1386'], ['gn0108', 'vb0218', 'vm0377', 'ds0814'], ['sc1229', 'ak0934', 'hy0232', 'ja0964', 'ms1500', 'av0659'], ['sb1357', 'sm1640', 'nv0234', 'dr0609', 'sk1313', 'sg1297'], ['sa1198', 'nm0618', 'kg0569', 'kg0470']]\n"
          ]
        }
      ]
    },
    {
      "cell_type": "markdown",
      "metadata": {
        "id": "nm20xgVw474-"
      },
      "source": [
        "(10) Write a Python program to find the duplicate elements in a given array \n",
        "\n",
        "---\n",
        "\n",
        "of integers. Return -1 If there are no such elements. (4 points)"
      ]
    },
    {
      "cell_type": "code",
      "execution_count": 99,
      "metadata": {
        "id": "-1PoYIA9474-"
      },
      "outputs": [],
      "source": [
        "# write your answer here\n",
        "\n",
        "from collections import Counter\n",
        "\n",
        "def findDuplicate(samplelist):\n",
        "  d = Counter(samplelist)\n",
        "  new_list = list([item for item in d if d[item]>1])\n",
        "  if len(new_list) == 0:\n",
        "    return -1\n",
        "  return new_list"
      ]
    },
    {
      "cell_type": "code",
      "source": [
        "findDuplicate([1,2,3,4])"
      ],
      "metadata": {
        "colab": {
          "base_uri": "https://localhost:8080/"
        },
        "id": "EzaDOeH1GvX-",
        "outputId": "e2af8bb4-c68f-4587-bae2-ada33cc87804"
      },
      "execution_count": 100,
      "outputs": [
        {
          "output_type": "execute_result",
          "data": {
            "text/plain": [
              "-1"
            ]
          },
          "metadata": {},
          "execution_count": 100
        }
      ]
    },
    {
      "cell_type": "code",
      "source": [
        "findDuplicate([1,2,1,2,3])"
      ],
      "metadata": {
        "colab": {
          "base_uri": "https://localhost:8080/"
        },
        "id": "Gk60aGFRGzwe",
        "outputId": "54a08017-c563-4247-cc4e-57e271fd7dcb"
      },
      "execution_count": 101,
      "outputs": [
        {
          "output_type": "execute_result",
          "data": {
            "text/plain": [
              "[1, 2]"
            ]
          },
          "metadata": {},
          "execution_count": 101
        }
      ]
    },
    {
      "cell_type": "markdown",
      "metadata": {
        "id": "ziU8bngJ474-"
      },
      "source": [
        "(11) Write a Python program to select all the Sundays of a specified year. (4 extra points)"
      ]
    },
    {
      "cell_type": "code",
      "source": [
        "import pandas as pd\n",
        "\n",
        "def fecthAlldaysIna(year, day):\n",
        "  start = year + \"-01-01\"\n",
        "  periods = 52\n",
        "  freq = \"W-\" + day\n",
        "  days = pd.Series(pd.date_range(start = start,\n",
        "                               periods = periods,\n",
        "                               freq = freq))\n",
        "  \n",
        "  return days"
      ],
      "metadata": {
        "id": "iA6UnSMQH3wR"
      },
      "execution_count": 110,
      "outputs": []
    },
    {
      "cell_type": "code",
      "source": [
        "fecthAlldaysIna('2020', \"SUN\")"
      ],
      "metadata": {
        "colab": {
          "base_uri": "https://localhost:8080/"
        },
        "id": "l0kYneYLIHOV",
        "outputId": "4494d4e0-9d7d-4f69-d93e-00faf2708116"
      },
      "execution_count": 321,
      "outputs": [
        {
          "output_type": "execute_result",
          "data": {
            "text/plain": [
              "0    2020-01-05\n",
              "1    2020-01-12\n",
              "2    2020-01-19\n",
              "3    2020-01-26\n",
              "4    2020-02-02\n",
              "5    2020-02-09\n",
              "6    2020-02-16\n",
              "7    2020-02-23\n",
              "8    2020-03-01\n",
              "9    2020-03-08\n",
              "10   2020-03-15\n",
              "11   2020-03-22\n",
              "12   2020-03-29\n",
              "13   2020-04-05\n",
              "14   2020-04-12\n",
              "15   2020-04-19\n",
              "16   2020-04-26\n",
              "17   2020-05-03\n",
              "18   2020-05-10\n",
              "19   2020-05-17\n",
              "20   2020-05-24\n",
              "21   2020-05-31\n",
              "22   2020-06-07\n",
              "23   2020-06-14\n",
              "24   2020-06-21\n",
              "25   2020-06-28\n",
              "26   2020-07-05\n",
              "27   2020-07-12\n",
              "28   2020-07-19\n",
              "29   2020-07-26\n",
              "30   2020-08-02\n",
              "31   2020-08-09\n",
              "32   2020-08-16\n",
              "33   2020-08-23\n",
              "34   2020-08-30\n",
              "35   2020-09-06\n",
              "36   2020-09-13\n",
              "37   2020-09-20\n",
              "38   2020-09-27\n",
              "39   2020-10-04\n",
              "40   2020-10-11\n",
              "41   2020-10-18\n",
              "42   2020-10-25\n",
              "43   2020-11-01\n",
              "44   2020-11-08\n",
              "45   2020-11-15\n",
              "46   2020-11-22\n",
              "47   2020-11-29\n",
              "48   2020-12-06\n",
              "49   2020-12-13\n",
              "50   2020-12-20\n",
              "51   2020-12-27\n",
              "dtype: datetime64[ns]"
            ]
          },
          "metadata": {},
          "execution_count": 321
        }
      ]
    }
  ],
  "metadata": {
    "colab": {
      "collapsed_sections": [],
      "name": "Bhanu_In_class_exercise_01-1.ipynb",
      "provenance": []
    },
    "kernelspec": {
      "display_name": "Python 3",
      "language": "python",
      "name": "python3"
    },
    "language_info": {
      "codemirror_mode": {
        "name": "ipython",
        "version": 3
      },
      "file_extension": ".py",
      "mimetype": "text/x-python",
      "name": "python",
      "nbconvert_exporter": "python",
      "pygments_lexer": "ipython3",
      "version": "3.8.5"
    }
  },
  "nbformat": 4,
  "nbformat_minor": 0
}